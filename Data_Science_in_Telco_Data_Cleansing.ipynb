{
  "nbformat": 4,
  "nbformat_minor": 0,
  "metadata": {
    "colab": {
      "name": "Data Science in Telco Data Cleansing.ipynb",
      "provenance": [],
      "collapsed_sections": [],
      "authorship_tag": "ABX9TyP89uw+5e6TmlvYxWjacEeq",
      "include_colab_link": true
    },
    "kernelspec": {
      "name": "python3",
      "display_name": "Python 3"
    }
  },
  "cells": [
    {
      "cell_type": "markdown",
      "metadata": {
        "id": "view-in-github",
        "colab_type": "text"
      },
      "source": [
        "<a href=\"https://colab.research.google.com/github/Hidayathamir/Data-Science-in-Telco-Data-Cleansing/blob/main/Data_Science_in_Telco_Data_Cleansing.ipynb\" target=\"_parent\"><img src=\"https://colab.research.google.com/assets/colab-badge.svg\" alt=\"Open In Colab\"/></a>"
      ]
    },
    {
      "cell_type": "markdown",
      "metadata": {
        "id": "zdhQYkfUzqwW"
      },
      "source": [
        "# Latar Belakang\r\n",
        "DQLab Telco merupakan perusahaan Telco yang sudah mempunyai banyak cabang tersebar dimana-mana. Sejak berdiri pada tahun 2019, DQLab Telco konsisten untuk memperhatikan customer experience nya sehingga tidak akan di tinggalkan pelanggan.\r\n",
        "\r\n",
        "Walaupun baru berumur 1 tahun lebih sedikit, DQLab Telco sudah mempunyai banyak pelanggan yang beralih langganan ke kompetitior. Pihak management ingin mengurangi jumlah pelanggan yang beralih (churn) dengan menggunakan machine learning.\r\n",
        "\r\n",
        "Oleh karena itu, tim Data Scientist dimimta untuk mempersiapkan data sekaligus membuat model prediksi yang tepat untuk menentukan pelanggan akan berhenti berlangganan (churn) atau tidak."
      ]
    },
    {
      "cell_type": "code",
      "metadata": {
        "id": "jLmWHPploYlD"
      },
      "source": [
        "import pandas as pd\r\n",
        "import matplotlib.pyplot as plt\r\n",
        "import seaborn as sns"
      ],
      "execution_count": 1,
      "outputs": []
    },
    {
      "cell_type": "code",
      "metadata": {
        "colab": {
          "base_uri": "https://localhost:8080/",
          "height": 560
        },
        "id": "9VtMK8yClkVQ",
        "outputId": "487db4a8-ec81-4c0d-b6c9-46822f6d5650"
      },
      "source": [
        "df = pd.read_csv('https://dqlab-dataset.s3-ap-southeast-1.amazonaws.com/dqlab_telco.csv')\r\n",
        "df"
      ],
      "execution_count": 2,
      "outputs": [
        {
          "output_type": "execute_result",
          "data": {
            "text/html": [
              "<div>\n",
              "<style scoped>\n",
              "    .dataframe tbody tr th:only-of-type {\n",
              "        vertical-align: middle;\n",
              "    }\n",
              "\n",
              "    .dataframe tbody tr th {\n",
              "        vertical-align: top;\n",
              "    }\n",
              "\n",
              "    .dataframe thead th {\n",
              "        text-align: right;\n",
              "    }\n",
              "</style>\n",
              "<table border=\"1\" class=\"dataframe\">\n",
              "  <thead>\n",
              "    <tr style=\"text-align: right;\">\n",
              "      <th></th>\n",
              "      <th>UpdatedAt</th>\n",
              "      <th>customerID</th>\n",
              "      <th>gender</th>\n",
              "      <th>SeniorCitizen</th>\n",
              "      <th>Partner</th>\n",
              "      <th>Dependents</th>\n",
              "      <th>tenure</th>\n",
              "      <th>PhoneService</th>\n",
              "      <th>MultipleLines</th>\n",
              "      <th>InternetService</th>\n",
              "      <th>OnlineSecurity</th>\n",
              "      <th>OnlineBackup</th>\n",
              "      <th>DeviceProtection</th>\n",
              "      <th>TechSupport</th>\n",
              "      <th>StreamingTV</th>\n",
              "      <th>StreamingMovies</th>\n",
              "      <th>Contract</th>\n",
              "      <th>PaperlessBilling</th>\n",
              "      <th>PaymentMethod</th>\n",
              "      <th>MonthlyCharges</th>\n",
              "      <th>TotalCharges</th>\n",
              "      <th>Churn</th>\n",
              "    </tr>\n",
              "  </thead>\n",
              "  <tbody>\n",
              "    <tr>\n",
              "      <th>0</th>\n",
              "      <td>202006</td>\n",
              "      <td>45759018157</td>\n",
              "      <td>Female</td>\n",
              "      <td>0</td>\n",
              "      <td>Yes</td>\n",
              "      <td>No</td>\n",
              "      <td>1.0</td>\n",
              "      <td>No</td>\n",
              "      <td>No phone service</td>\n",
              "      <td>DSL</td>\n",
              "      <td>No</td>\n",
              "      <td>Yes</td>\n",
              "      <td>No</td>\n",
              "      <td>No</td>\n",
              "      <td>No</td>\n",
              "      <td>No</td>\n",
              "      <td>Month-to-month</td>\n",
              "      <td>Yes</td>\n",
              "      <td>Electronic check</td>\n",
              "      <td>29.85</td>\n",
              "      <td>29.85</td>\n",
              "      <td>No</td>\n",
              "    </tr>\n",
              "    <tr>\n",
              "      <th>1</th>\n",
              "      <td>202006</td>\n",
              "      <td>45557574145</td>\n",
              "      <td>Male</td>\n",
              "      <td>0</td>\n",
              "      <td>No</td>\n",
              "      <td>No</td>\n",
              "      <td>34.0</td>\n",
              "      <td>Yes</td>\n",
              "      <td>No</td>\n",
              "      <td>DSL</td>\n",
              "      <td>Yes</td>\n",
              "      <td>No</td>\n",
              "      <td>Yes</td>\n",
              "      <td>No</td>\n",
              "      <td>No</td>\n",
              "      <td>No</td>\n",
              "      <td>One year</td>\n",
              "      <td>No</td>\n",
              "      <td>Mailed check</td>\n",
              "      <td>56.95</td>\n",
              "      <td>1889.50</td>\n",
              "      <td>No</td>\n",
              "    </tr>\n",
              "    <tr>\n",
              "      <th>2</th>\n",
              "      <td>202006</td>\n",
              "      <td>45366876421</td>\n",
              "      <td>Male</td>\n",
              "      <td>0</td>\n",
              "      <td>No</td>\n",
              "      <td>No</td>\n",
              "      <td>2.0</td>\n",
              "      <td>Yes</td>\n",
              "      <td>No</td>\n",
              "      <td>DSL</td>\n",
              "      <td>Yes</td>\n",
              "      <td>Yes</td>\n",
              "      <td>No</td>\n",
              "      <td>No</td>\n",
              "      <td>No</td>\n",
              "      <td>No</td>\n",
              "      <td>Month-to-month</td>\n",
              "      <td>Yes</td>\n",
              "      <td>Mailed check</td>\n",
              "      <td>53.85</td>\n",
              "      <td>108.15</td>\n",
              "      <td>Yes</td>\n",
              "    </tr>\n",
              "    <tr>\n",
              "      <th>3</th>\n",
              "      <td>202006</td>\n",
              "      <td>45779536532</td>\n",
              "      <td>Male</td>\n",
              "      <td>0</td>\n",
              "      <td>No</td>\n",
              "      <td>No</td>\n",
              "      <td>45.0</td>\n",
              "      <td>No</td>\n",
              "      <td>No phone service</td>\n",
              "      <td>DSL</td>\n",
              "      <td>Yes</td>\n",
              "      <td>No</td>\n",
              "      <td>Yes</td>\n",
              "      <td>Yes</td>\n",
              "      <td>No</td>\n",
              "      <td>No</td>\n",
              "      <td>One year</td>\n",
              "      <td>No</td>\n",
              "      <td>Bank transfer (automatic)</td>\n",
              "      <td>42.30</td>\n",
              "      <td>1840.75</td>\n",
              "      <td>No</td>\n",
              "    </tr>\n",
              "    <tr>\n",
              "      <th>4</th>\n",
              "      <td>202006</td>\n",
              "      <td>45923787906</td>\n",
              "      <td>Female</td>\n",
              "      <td>0</td>\n",
              "      <td>No</td>\n",
              "      <td>No</td>\n",
              "      <td>2.0</td>\n",
              "      <td>Yes</td>\n",
              "      <td>No</td>\n",
              "      <td>Fiber optic</td>\n",
              "      <td>No</td>\n",
              "      <td>No</td>\n",
              "      <td>No</td>\n",
              "      <td>No</td>\n",
              "      <td>No</td>\n",
              "      <td>No</td>\n",
              "      <td>Month-to-month</td>\n",
              "      <td>Yes</td>\n",
              "      <td>Electronic check</td>\n",
              "      <td>70.70</td>\n",
              "      <td>151.65</td>\n",
              "      <td>Yes</td>\n",
              "    </tr>\n",
              "    <tr>\n",
              "      <th>...</th>\n",
              "      <td>...</td>\n",
              "      <td>...</td>\n",
              "      <td>...</td>\n",
              "      <td>...</td>\n",
              "      <td>...</td>\n",
              "      <td>...</td>\n",
              "      <td>...</td>\n",
              "      <td>...</td>\n",
              "      <td>...</td>\n",
              "      <td>...</td>\n",
              "      <td>...</td>\n",
              "      <td>...</td>\n",
              "      <td>...</td>\n",
              "      <td>...</td>\n",
              "      <td>...</td>\n",
              "      <td>...</td>\n",
              "      <td>...</td>\n",
              "      <td>...</td>\n",
              "      <td>...</td>\n",
              "      <td>...</td>\n",
              "      <td>...</td>\n",
              "      <td>...</td>\n",
              "    </tr>\n",
              "    <tr>\n",
              "      <th>7108</th>\n",
              "      <td>202006</td>\n",
              "      <td>45117219093</td>\n",
              "      <td>Male</td>\n",
              "      <td>0</td>\n",
              "      <td>Yes</td>\n",
              "      <td>Yes</td>\n",
              "      <td>53.0</td>\n",
              "      <td>Yes</td>\n",
              "      <td>Yes</td>\n",
              "      <td>DSL</td>\n",
              "      <td>Yes</td>\n",
              "      <td>Yes</td>\n",
              "      <td>No</td>\n",
              "      <td>No</td>\n",
              "      <td>No</td>\n",
              "      <td>Yes</td>\n",
              "      <td>Two year</td>\n",
              "      <td>No</td>\n",
              "      <td>Bank transfer (automatic)</td>\n",
              "      <td>69.70</td>\n",
              "      <td>3686.05</td>\n",
              "      <td>NaN</td>\n",
              "    </tr>\n",
              "    <tr>\n",
              "      <th>7109</th>\n",
              "      <td>202006</td>\n",
              "      <td>45564915800</td>\n",
              "      <td>Female</td>\n",
              "      <td>0</td>\n",
              "      <td>No</td>\n",
              "      <td>No</td>\n",
              "      <td>12.0</td>\n",
              "      <td>Yes</td>\n",
              "      <td>No</td>\n",
              "      <td>Fiber optic</td>\n",
              "      <td>No</td>\n",
              "      <td>No</td>\n",
              "      <td>Yes</td>\n",
              "      <td>No</td>\n",
              "      <td>Yes</td>\n",
              "      <td>Yes</td>\n",
              "      <td>One year</td>\n",
              "      <td>No</td>\n",
              "      <td>Mailed check</td>\n",
              "      <td>95.50</td>\n",
              "      <td>1115.15</td>\n",
              "      <td>NaN</td>\n",
              "    </tr>\n",
              "    <tr>\n",
              "      <th>7110</th>\n",
              "      <td>202006</td>\n",
              "      <td>45655964195</td>\n",
              "      <td>Male</td>\n",
              "      <td>0</td>\n",
              "      <td>No</td>\n",
              "      <td>No</td>\n",
              "      <td>26.0</td>\n",
              "      <td>Yes</td>\n",
              "      <td>No</td>\n",
              "      <td>Fiber optic</td>\n",
              "      <td>No</td>\n",
              "      <td>No</td>\n",
              "      <td>Yes</td>\n",
              "      <td>Yes</td>\n",
              "      <td>Yes</td>\n",
              "      <td>Yes</td>\n",
              "      <td>Month-to-month</td>\n",
              "      <td>Yes</td>\n",
              "      <td>Electronic check</td>\n",
              "      <td>98.65</td>\n",
              "      <td>2537.00</td>\n",
              "      <td>NaN</td>\n",
              "    </tr>\n",
              "    <tr>\n",
              "      <th>7111</th>\n",
              "      <td>202006</td>\n",
              "      <td>45899251814</td>\n",
              "      <td>Male</td>\n",
              "      <td>0</td>\n",
              "      <td>No</td>\n",
              "      <td>No</td>\n",
              "      <td>21.0</td>\n",
              "      <td>Yes</td>\n",
              "      <td>No</td>\n",
              "      <td>DSL</td>\n",
              "      <td>No</td>\n",
              "      <td>No</td>\n",
              "      <td>Yes</td>\n",
              "      <td>No</td>\n",
              "      <td>No</td>\n",
              "      <td>Yes</td>\n",
              "      <td>Month-to-month</td>\n",
              "      <td>No</td>\n",
              "      <td>Mailed check</td>\n",
              "      <td>61.65</td>\n",
              "      <td>1393.60</td>\n",
              "      <td>NaN</td>\n",
              "    </tr>\n",
              "    <tr>\n",
              "      <th>7112</th>\n",
              "      <td>202006</td>\n",
              "      <td>45427332508</td>\n",
              "      <td>Female</td>\n",
              "      <td>0</td>\n",
              "      <td>No</td>\n",
              "      <td>Yes</td>\n",
              "      <td>1.0</td>\n",
              "      <td>Yes</td>\n",
              "      <td>No</td>\n",
              "      <td>Fiber optic</td>\n",
              "      <td>No</td>\n",
              "      <td>No</td>\n",
              "      <td>No</td>\n",
              "      <td>No</td>\n",
              "      <td>Yes</td>\n",
              "      <td>Yes</td>\n",
              "      <td>Month-to-month</td>\n",
              "      <td>Yes</td>\n",
              "      <td>Electronic check</td>\n",
              "      <td>89.35</td>\n",
              "      <td>89.35</td>\n",
              "      <td>NaN</td>\n",
              "    </tr>\n",
              "  </tbody>\n",
              "</table>\n",
              "<p>7113 rows × 22 columns</p>\n",
              "</div>"
            ],
            "text/plain": [
              "      UpdatedAt   customerID  gender  ...  MonthlyCharges TotalCharges Churn\n",
              "0        202006  45759018157  Female  ...           29.85        29.85    No\n",
              "1        202006  45557574145    Male  ...           56.95      1889.50    No\n",
              "2        202006  45366876421    Male  ...           53.85       108.15   Yes\n",
              "3        202006  45779536532    Male  ...           42.30      1840.75    No\n",
              "4        202006  45923787906  Female  ...           70.70       151.65   Yes\n",
              "...         ...          ...     ...  ...             ...          ...   ...\n",
              "7108     202006  45117219093    Male  ...           69.70      3686.05   NaN\n",
              "7109     202006  45564915800  Female  ...           95.50      1115.15   NaN\n",
              "7110     202006  45655964195    Male  ...           98.65      2537.00   NaN\n",
              "7111     202006  45899251814    Male  ...           61.65      1393.60   NaN\n",
              "7112     202006  45427332508  Female  ...           89.35        89.35   NaN\n",
              "\n",
              "[7113 rows x 22 columns]"
            ]
          },
          "metadata": {
            "tags": []
          },
          "execution_count": 2
        }
      ]
    },
    {
      "cell_type": "code",
      "metadata": {
        "colab": {
          "base_uri": "https://localhost:8080/"
        },
        "id": "zTYCJB3eln3b",
        "outputId": "ddbd7687-5d0f-4400-9e56-03a3da572312"
      },
      "source": [
        "df.columns"
      ],
      "execution_count": 3,
      "outputs": [
        {
          "output_type": "execute_result",
          "data": {
            "text/plain": [
              "Index(['UpdatedAt', 'customerID', 'gender', 'SeniorCitizen', 'Partner',\n",
              "       'Dependents', 'tenure', 'PhoneService', 'MultipleLines',\n",
              "       'InternetService', 'OnlineSecurity', 'OnlineBackup', 'DeviceProtection',\n",
              "       'TechSupport', 'StreamingTV', 'StreamingMovies', 'Contract',\n",
              "       'PaperlessBilling', 'PaymentMethod', 'MonthlyCharges', 'TotalCharges',\n",
              "       'Churn'],\n",
              "      dtype='object')"
            ]
          },
          "metadata": {
            "tags": []
          },
          "execution_count": 3
        }
      ]
    },
    {
      "cell_type": "markdown",
      "metadata": {
        "id": "4FNGDMbb0L3D"
      },
      "source": [
        "* UpdatedAt : Periode of Data taken\r\n",
        "* customerID : Customer ID\r\n",
        "* gender : Whether the customer is a male or a female (Male, Female)\r\n",
        "* SeniorCitizen : Whether the customer is a senior citizen or not (1, 0)\r\n",
        "* Partner : Whether the customer has a partner or not (Yes, No)\r\n",
        "* Dependents : Whether the customer has dependents or not (Yes, No)\r\n",
        "* tenure : Number of months the customer has stayed with the company\r\n",
        "* PhoneService : Whether the customer has a phone service or not (Yes, No)\r\n",
        "* MultipleLines : Whether the customer has multiple lines or not (Yes, No, No phone service)\r\n",
        "* InternetService : Customer’s internet service provider (DSL, Fiber optic, No)\r\n",
        "* OnlineSecurity : Whether the customer has online security or not (Yes, No, No internet service)\r\n",
        "* OnlineBackup : Whether the customer has online backup or not (Yes, No, No internet service)\r\n",
        "* DeviceProtection : Whether the customer has device protection or not (Yes, No, No internet service)\r\n",
        "* TechSupport : Whether the customer has tech support or not (Yes, No, No internet service)\r\n",
        "* StreamingTV : Whether the customer has streaming TV or not (Yes, No, No internet service)\r\n",
        "* StreamingMovies : Whether the customer has streaming movies or not (Yes, No, No internet service)\r\n",
        "* Contract : The contract term of the customer (Month-to-month, One year, Two year)\r\n",
        "* PaperlessBilling : Whether the customer has paperless billing or not (Yes, No)\r\n",
        "* PaymentMethod : The customer’s payment method (Electronic check, Mailed check, Bank transfer (automatic), Credit card (automatic))\r\n",
        "* MonthlyCharges : The amount charged to the customer monthly\r\n",
        "* TotalCharges : The total amount charged to the customer\r\n",
        "Churn Whether the customer churned or not (Yes or No)"
      ]
    },
    {
      "cell_type": "markdown",
      "metadata": {
        "id": "OA8I89Hhgi5m"
      },
      "source": [
        "# 1. Validitas customerID"
      ]
    },
    {
      "cell_type": "code",
      "metadata": {
        "id": "-UltVIDgmpoU"
      },
      "source": [
        "# valid number 45dddddddddd\r\n",
        "df['valid_id'] = df['customerID'].astype(str).str.match(r'(45\\d{9,10})')\r\n",
        "# only takes valid number then drop valid_id column\r\n",
        "df = (df[df['valid_id'] == True]).drop('valid_id', axis = 1)\r\n",
        "# drop duplicates row\r\n",
        "df = df.drop_duplicates()\r\n",
        "# sort value regarding UpdatedAt column then drop duplicates customerID\r\n",
        "df = df.sort_values(['UpdatedAt']).drop_duplicates(['customerID'])"
      ],
      "execution_count": 4,
      "outputs": []
    },
    {
      "cell_type": "markdown",
      "metadata": {
        "id": "PBR8tCc1knAS"
      },
      "source": [
        "# 2. Missing value"
      ]
    },
    {
      "cell_type": "code",
      "metadata": {
        "colab": {
          "base_uri": "https://localhost:8080/"
        },
        "id": "mipSVDXayXM2",
        "outputId": "994b9373-b098-4ff0-e31f-4e8ec3323db7"
      },
      "source": [
        "df.isna().sum()"
      ],
      "execution_count": 5,
      "outputs": [
        {
          "output_type": "execute_result",
          "data": {
            "text/plain": [
              "UpdatedAt            0\n",
              "customerID           0\n",
              "gender               0\n",
              "SeniorCitizen        0\n",
              "Partner              0\n",
              "Dependents           0\n",
              "tenure              99\n",
              "PhoneService         0\n",
              "MultipleLines        0\n",
              "InternetService      0\n",
              "OnlineSecurity       0\n",
              "OnlineBackup         0\n",
              "DeviceProtection     0\n",
              "TechSupport          0\n",
              "StreamingTV          0\n",
              "StreamingMovies      0\n",
              "Contract             0\n",
              "PaperlessBilling     0\n",
              "PaymentMethod        0\n",
              "MonthlyCharges      26\n",
              "TotalCharges        15\n",
              "Churn               43\n",
              "dtype: int64"
            ]
          },
          "metadata": {
            "tags": []
          },
          "execution_count": 5
        }
      ]
    },
    {
      "cell_type": "code",
      "metadata": {
        "id": "cw5BiBbO7fJP",
        "colab": {
          "base_uri": "https://localhost:8080/"
        },
        "outputId": "07216836-c589-4f8d-84fe-a3803e28c289"
      },
      "source": [
        "# only accept non na in Churn column\r\n",
        "df = df.dropna(subset=['Churn'])\r\n",
        "df.isna().sum()"
      ],
      "execution_count": 6,
      "outputs": [
        {
          "output_type": "execute_result",
          "data": {
            "text/plain": [
              "UpdatedAt            0\n",
              "customerID           0\n",
              "gender               0\n",
              "SeniorCitizen        0\n",
              "Partner              0\n",
              "Dependents           0\n",
              "tenure              99\n",
              "PhoneService         0\n",
              "MultipleLines        0\n",
              "InternetService      0\n",
              "OnlineSecurity       0\n",
              "OnlineBackup         0\n",
              "DeviceProtection     0\n",
              "TechSupport          0\n",
              "StreamingTV          0\n",
              "StreamingMovies      0\n",
              "Contract             0\n",
              "PaperlessBilling     0\n",
              "PaymentMethod        0\n",
              "MonthlyCharges      26\n",
              "TotalCharges        15\n",
              "Churn                0\n",
              "dtype: int64"
            ]
          },
          "metadata": {
            "tags": []
          },
          "execution_count": 6
        }
      ]
    },
    {
      "cell_type": "code",
      "metadata": {
        "id": "r-Gg2e_gG9Tj",
        "colab": {
          "base_uri": "https://localhost:8080/"
        },
        "outputId": "866babfa-410a-4aad-a1aa-e165697b4d42"
      },
      "source": [
        "# default value for na in tenure columns = 11\r\n",
        "df.tenure = df.tenure.fillna(11)\r\n",
        "df.isna().sum()"
      ],
      "execution_count": 7,
      "outputs": [
        {
          "output_type": "execute_result",
          "data": {
            "text/plain": [
              "UpdatedAt            0\n",
              "customerID           0\n",
              "gender               0\n",
              "SeniorCitizen        0\n",
              "Partner              0\n",
              "Dependents           0\n",
              "tenure               0\n",
              "PhoneService         0\n",
              "MultipleLines        0\n",
              "InternetService      0\n",
              "OnlineSecurity       0\n",
              "OnlineBackup         0\n",
              "DeviceProtection     0\n",
              "TechSupport          0\n",
              "StreamingTV          0\n",
              "StreamingMovies      0\n",
              "Contract             0\n",
              "PaperlessBilling     0\n",
              "PaymentMethod        0\n",
              "MonthlyCharges      26\n",
              "TotalCharges        15\n",
              "Churn                0\n",
              "dtype: int64"
            ]
          },
          "metadata": {
            "tags": []
          },
          "execution_count": 7
        }
      ]
    },
    {
      "cell_type": "code",
      "metadata": {
        "colab": {
          "base_uri": "https://localhost:8080/"
        },
        "id": "D4stNZtlZgKP",
        "outputId": "a3e04642-456f-4061-9ac3-e29cf5d4df4a"
      },
      "source": [
        "# other na will be median\r\n",
        "for i in ['MonthlyCharges', 'TotalCharges']:\r\n",
        "  if df[i].isna().sum()>0:\r\n",
        "    df[i].fillna(df[i].median(), inplace=True)\r\n",
        "df.isna().sum()"
      ],
      "execution_count": 8,
      "outputs": [
        {
          "output_type": "execute_result",
          "data": {
            "text/plain": [
              "UpdatedAt           0\n",
              "customerID          0\n",
              "gender              0\n",
              "SeniorCitizen       0\n",
              "Partner             0\n",
              "Dependents          0\n",
              "tenure              0\n",
              "PhoneService        0\n",
              "MultipleLines       0\n",
              "InternetService     0\n",
              "OnlineSecurity      0\n",
              "OnlineBackup        0\n",
              "DeviceProtection    0\n",
              "TechSupport         0\n",
              "StreamingTV         0\n",
              "StreamingMovies     0\n",
              "Contract            0\n",
              "PaperlessBilling    0\n",
              "PaymentMethod       0\n",
              "MonthlyCharges      0\n",
              "TotalCharges        0\n",
              "Churn               0\n",
              "dtype: int64"
            ]
          },
          "metadata": {
            "tags": []
          },
          "execution_count": 8
        }
      ]
    },
    {
      "cell_type": "markdown",
      "metadata": {
        "id": "E08-M8bEkjAj"
      },
      "source": [
        "# 3. Outliner"
      ]
    },
    {
      "cell_type": "markdown",
      "metadata": {
        "id": "zFwg8SZqk4ZV"
      },
      "source": [
        "Before"
      ]
    },
    {
      "cell_type": "code",
      "metadata": {
        "colab": {
          "base_uri": "https://localhost:8080/",
          "height": 1000
        },
        "id": "Nr81XwIqfyuw",
        "outputId": "6d55a634-2529-435c-f06e-57cf5e2f4eec"
      },
      "source": [
        "plt.figure()\r\n",
        "sns.boxplot(x=df['tenure'])\r\n",
        "plt.show()\r\n",
        "\r\n",
        "plt.figure()\r\n",
        "sns.boxplot(x=df['MonthlyCharges'])\r\n",
        "plt.show()\r\n",
        "\r\n",
        "plt.figure()\r\n",
        "sns.boxplot(x=df['TotalCharges'])\r\n",
        "plt.show()\r\n",
        "\r\n",
        "df[['tenure','MonthlyCharges','TotalCharges']].describe()"
      ],
      "execution_count": 9,
      "outputs": [
        {
          "output_type": "display_data",
          "data": {
            "image/png": "[encoded data removed]",
            "text/plain": [
              "<Figure size 432x288 with 1 Axes>"
            ]
          },
          "metadata": {
            "tags": [],
            "needs_background": "light"
          }
        },
        {
          "output_type": "display_data",
          "data": {
            "image/png": "[encoded data removed]",
            "text/plain": [
              "<Figure size 432x288 with 1 Axes>"
            ]
          },
          "metadata": {
            "tags": [],
            "needs_background": "light"
          }
        },
        {
          "output_type": "display_data",
          "data": {
            "image/png": "[encoded data removed]",
            "text/plain": [
              "<Figure size 432x288 with 1 Axes>"
            ]
          },
          "metadata": {
            "tags": [],
            "needs_background": "light"
          }
        },
        {
          "output_type": "execute_result",
          "data": {
            "text/html": [
              "<div>\n",
              "<style scoped>\n",
              "    .dataframe tbody tr th:only-of-type {\n",
              "        vertical-align: middle;\n",
              "    }\n",
              "\n",
              "    .dataframe tbody tr th {\n",
              "        vertical-align: top;\n",
              "    }\n",
              "\n",
              "    .dataframe thead th {\n",
              "        text-align: right;\n",
              "    }\n",
              "</style>\n",
              "<table border=\"1\" class=\"dataframe\">\n",
              "  <thead>\n",
              "    <tr style=\"text-align: right;\">\n",
              "      <th></th>\n",
              "      <th>tenure</th>\n",
              "      <th>MonthlyCharges</th>\n",
              "      <th>TotalCharges</th>\n",
              "    </tr>\n",
              "  </thead>\n",
              "  <tbody>\n",
              "    <tr>\n",
              "      <th>count</th>\n",
              "      <td>6950.000000</td>\n",
              "      <td>6950.00000</td>\n",
              "      <td>6950.000000</td>\n",
              "    </tr>\n",
              "    <tr>\n",
              "      <th>mean</th>\n",
              "      <td>32.477266</td>\n",
              "      <td>65.79741</td>\n",
              "      <td>2305.135403</td>\n",
              "    </tr>\n",
              "    <tr>\n",
              "      <th>std</th>\n",
              "      <td>25.188910</td>\n",
              "      <td>50.47553</td>\n",
              "      <td>2578.739530</td>\n",
              "    </tr>\n",
              "    <tr>\n",
              "      <th>min</th>\n",
              "      <td>0.000000</td>\n",
              "      <td>0.00000</td>\n",
              "      <td>19.000000</td>\n",
              "    </tr>\n",
              "    <tr>\n",
              "      <th>25%</th>\n",
              "      <td>9.000000</td>\n",
              "      <td>36.46250</td>\n",
              "      <td>406.975000</td>\n",
              "    </tr>\n",
              "    <tr>\n",
              "      <th>50%</th>\n",
              "      <td>29.000000</td>\n",
              "      <td>70.45000</td>\n",
              "      <td>1400.850000</td>\n",
              "    </tr>\n",
              "    <tr>\n",
              "      <th>75%</th>\n",
              "      <td>55.000000</td>\n",
              "      <td>89.85000</td>\n",
              "      <td>3799.837500</td>\n",
              "    </tr>\n",
              "    <tr>\n",
              "      <th>max</th>\n",
              "      <td>500.000000</td>\n",
              "      <td>2311.00000</td>\n",
              "      <td>80000.000000</td>\n",
              "    </tr>\n",
              "  </tbody>\n",
              "</table>\n",
              "</div>"
            ],
            "text/plain": [
              "            tenure  MonthlyCharges  TotalCharges\n",
              "count  6950.000000      6950.00000   6950.000000\n",
              "mean     32.477266        65.79741   2305.135403\n",
              "std      25.188910        50.47553   2578.739530\n",
              "min       0.000000         0.00000     19.000000\n",
              "25%       9.000000        36.46250    406.975000\n",
              "50%      29.000000        70.45000   1400.850000\n",
              "75%      55.000000        89.85000   3799.837500\n",
              "max     500.000000      2311.00000  80000.000000"
            ]
          },
          "metadata": {
            "tags": []
          },
          "execution_count": 9
        }
      ]
    },
    {
      "cell_type": "markdown",
      "metadata": {
        "id": "xb0OL06vk6-N"
      },
      "source": [
        "Process"
      ]
    },
    {
      "cell_type": "code",
      "metadata": {
        "id": "uJP0ep8UjSCd"
      },
      "source": [
        "Q1 = df[['tenure', 'MonthlyCharges', 'TotalCharges']].quantile(0.25)\r\n",
        "Q3 = df[['tenure', 'MonthlyCharges', 'TotalCharges']].quantile(0.75)\r\n",
        "IQR = Q3 - Q1\r\n",
        "maximum = Q3 + 1.5*IQR\r\n",
        "minimum = Q1 - 1.5*IQR\r\n",
        "\r\n",
        "higher = df > maximum\r\n",
        "lower = df < minimum\r\n",
        "\r\n",
        "\r\n",
        "df = df.mask(higher, maximum, axis=1) # df.mask = nilai yang true diganti dengan maximum\r\n",
        "df = df.mask(lower, minimum, axis=1)"
      ],
      "execution_count": 10,
      "outputs": []
    },
    {
      "cell_type": "markdown",
      "metadata": {
        "id": "W2nj1HgUk8ih"
      },
      "source": [
        "After"
      ]
    },
    {
      "cell_type": "code",
      "metadata": {
        "colab": {
          "base_uri": "https://localhost:8080/",
          "height": 1000
        },
        "id": "-wswtcuRgUkW",
        "outputId": "5b166b24-d80f-48d2-b7b4-11f7f83b5df7"
      },
      "source": [
        "plt.figure()\r\n",
        "sns.boxplot(x=df['tenure'])\r\n",
        "plt.show()\r\n",
        "\r\n",
        "plt.figure()\r\n",
        "sns.boxplot(x=df['MonthlyCharges'])\r\n",
        "plt.show()\r\n",
        "\r\n",
        "plt.figure()\r\n",
        "sns.boxplot(x=df['TotalCharges'])\r\n",
        "plt.show()\r\n",
        "\r\n",
        "df[['tenure','MonthlyCharges','TotalCharges']].describe()"
      ],
      "execution_count": 11,
      "outputs": [
        {
          "output_type": "display_data",
          "data": {
            "image/png": "[encoded data removed]",
            "text/plain": [
              "<Figure size 432x288 with 1 Axes>"
            ]
          },
          "metadata": {
            "tags": [],
            "needs_background": "light"
          }
        },
        {
          "output_type": "display_data",
          "data": {
            "image/png": "[encoded data removed]",
            "text/plain": [
              "<Figure size 432x288 with 1 Axes>"
            ]
          },
          "metadata": {
            "tags": [],
            "needs_background": "light"
          }
        },
        {
          "output_type": "display_data",
          "data": {
            "image/png": "[encoded data removed]",
            "text/plain": [
              "<Figure size 432x288 with 1 Axes>"
            ]
          },
          "metadata": {
            "tags": [],
            "needs_background": "light"
          }
        },
        {
          "output_type": "execute_result",
          "data": {
            "text/html": [
              "<div>\n",
              "<style scoped>\n",
              "    .dataframe tbody tr th:only-of-type {\n",
              "        vertical-align: middle;\n",
              "    }\n",
              "\n",
              "    .dataframe tbody tr th {\n",
              "        vertical-align: top;\n",
              "    }\n",
              "\n",
              "    .dataframe thead th {\n",
              "        text-align: right;\n",
              "    }\n",
              "</style>\n",
              "<table border=\"1\" class=\"dataframe\">\n",
              "  <thead>\n",
              "    <tr style=\"text-align: right;\">\n",
              "      <th></th>\n",
              "      <th>tenure</th>\n",
              "      <th>MonthlyCharges</th>\n",
              "      <th>TotalCharges</th>\n",
              "    </tr>\n",
              "  </thead>\n",
              "  <tbody>\n",
              "    <tr>\n",
              "      <th>count</th>\n",
              "      <td>6950.000000</td>\n",
              "      <td>6950.000000</td>\n",
              "      <td>6950.000000</td>\n",
              "    </tr>\n",
              "    <tr>\n",
              "      <th>mean</th>\n",
              "      <td>32.423165</td>\n",
              "      <td>65.004414</td>\n",
              "      <td>2286.110692</td>\n",
              "    </tr>\n",
              "    <tr>\n",
              "      <th>std</th>\n",
              "      <td>24.581073</td>\n",
              "      <td>30.056732</td>\n",
              "      <td>2265.803585</td>\n",
              "    </tr>\n",
              "    <tr>\n",
              "      <th>min</th>\n",
              "      <td>0.000000</td>\n",
              "      <td>0.000000</td>\n",
              "      <td>19.000000</td>\n",
              "    </tr>\n",
              "    <tr>\n",
              "      <th>25%</th>\n",
              "      <td>9.000000</td>\n",
              "      <td>36.462500</td>\n",
              "      <td>406.975000</td>\n",
              "    </tr>\n",
              "    <tr>\n",
              "      <th>50%</th>\n",
              "      <td>29.000000</td>\n",
              "      <td>70.450000</td>\n",
              "      <td>1400.850000</td>\n",
              "    </tr>\n",
              "    <tr>\n",
              "      <th>75%</th>\n",
              "      <td>55.000000</td>\n",
              "      <td>89.850000</td>\n",
              "      <td>3799.837500</td>\n",
              "    </tr>\n",
              "    <tr>\n",
              "      <th>max</th>\n",
              "      <td>124.000000</td>\n",
              "      <td>169.931250</td>\n",
              "      <td>8889.131250</td>\n",
              "    </tr>\n",
              "  </tbody>\n",
              "</table>\n",
              "</div>"
            ],
            "text/plain": [
              "            tenure  MonthlyCharges  TotalCharges\n",
              "count  6950.000000     6950.000000   6950.000000\n",
              "mean     32.423165       65.004414   2286.110692\n",
              "std      24.581073       30.056732   2265.803585\n",
              "min       0.000000        0.000000     19.000000\n",
              "25%       9.000000       36.462500    406.975000\n",
              "50%      29.000000       70.450000   1400.850000\n",
              "75%      55.000000       89.850000   3799.837500\n",
              "max     124.000000      169.931250   8889.131250"
            ]
          },
          "metadata": {
            "tags": []
          },
          "execution_count": 11
        }
      ]
    },
    {
      "cell_type": "markdown",
      "metadata": {
        "id": "0mQl9heql3U7"
      },
      "source": [
        "# 4. Standarisasi input"
      ]
    },
    {
      "cell_type": "code",
      "metadata": {
        "colab": {
          "base_uri": "https://localhost:8080/"
        },
        "id": "65v2wK86mQS_",
        "outputId": "5cb1fb06-1d09-4ede-e5d0-5bb171fa3ec1"
      },
      "source": [
        "for i in ['gender','Dependents','Churn']:\r\n",
        "  print(df[i].value_counts(), '\\n\\n')"
      ],
      "execution_count": 12,
      "outputs": [
        {
          "output_type": "stream",
          "text": [
            "Male         3499\n",
            "Female       3431\n",
            "Wanita         14\n",
            "Laki-Laki       6\n",
            "Name: gender, dtype: int64 \n",
            "\n",
            "\n",
            "No     4870\n",
            "Yes    2060\n",
            "Iya      20\n",
            "Name: Dependents, dtype: int64 \n",
            "\n",
            "\n",
            "No       5114\n",
            "Yes      1827\n",
            "Churn       9\n",
            "Name: Churn, dtype: int64 \n",
            "\n",
            "\n"
          ],
          "name": "stdout"
        }
      ]
    },
    {
      "cell_type": "code",
      "metadata": {
        "id": "7CXMdCuUnV-Y"
      },
      "source": [
        "d = {\r\n",
        "     'Wanita' : 'Female',\r\n",
        "     'Laki-Laki' : 'Male',\r\n",
        "     'Iya' : 'Yes',\r\n",
        "     'Churn' : 'Yes'\r\n",
        "}\r\n",
        "df = df.replace(d)"
      ],
      "execution_count": 13,
      "outputs": []
    },
    {
      "cell_type": "code",
      "metadata": {
        "colab": {
          "base_uri": "https://localhost:8080/"
        },
        "id": "bVZreP9Lo_XT",
        "outputId": "cee3f4be-5600-4a9a-d9d3-1bc14e7e6b00"
      },
      "source": [
        "for i in ['gender','Dependents','Churn']:\r\n",
        "  print(df[i].value_counts(), '\\n\\n')"
      ],
      "execution_count": 14,
      "outputs": [
        {
          "output_type": "stream",
          "text": [
            "Male      3505\n",
            "Female    3445\n",
            "Name: gender, dtype: int64 \n",
            "\n",
            "\n",
            "No     4870\n",
            "Yes    2080\n",
            "Name: Dependents, dtype: int64 \n",
            "\n",
            "\n",
            "No     5114\n",
            "Yes    1836\n",
            "Name: Churn, dtype: int64 \n",
            "\n",
            "\n"
          ],
          "name": "stdout"
        }
      ]
    }
  ]
}